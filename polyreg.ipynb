{
 "cells": [
  {
   "cell_type": "code",
   "execution_count": 4,
   "metadata": {
    "ExecuteTime": {
     "end_time": "2020-01-12T12:46:30.606126Z",
     "start_time": "2020-01-12T12:46:30.601414Z"
    }
   },
   "outputs": [],
   "source": [
    "import numpy as np\n",
    "import matplotlib.pyplot as plt\n",
    "%matplotlib inline"
   ]
  },
  {
   "cell_type": "code",
   "execution_count": 5,
   "metadata": {
    "ExecuteTime": {
     "end_time": "2020-01-12T12:46:30.623796Z",
     "start_time": "2020-01-12T12:46:30.608901Z"
    }
   },
   "outputs": [
    {
     "name": "stdout",
     "output_type": "stream",
     "text": [
      "train size:  1280  test size:  319\n"
     ]
    }
   ],
   "source": [
    "import pandas as pd\n",
    "from sklearn.preprocessing import StandardScaler\n",
    "wine = pd.read_csv(\"./data/winequality-red.csv\",sep=\";\")\n",
    "\n",
    "scaler = StandardScaler()\n",
    "wine_std = pd.DataFrame(scaler.fit_transform(wine), columns=wine.columns)\n",
    "\n",
    "def split_train_test(data, test_ratio):\n",
    "    np.random.seed(0)\n",
    "    shuffled_index = np.random.permutation(len(data))\n",
    "    test_size = int(len(data) * test_ratio)\n",
    "    test_index = shuffled_index[:test_size]\n",
    "    train_index = shuffled_index[test_size:]\n",
    "    return data.iloc[train_index], data.iloc[test_index]\n",
    "\n",
    "train_set, test_set = split_train_test(wine_std, 0.2)\n",
    "print(\"train size: \",len(train_set),\" test size: \",len(test_set))\n",
    "\n",
    "X_train = train_set[\"fixed acidity\"]\n",
    "T_train = train_set[\"pH\"]\n",
    "X_test = test_set[\"fixed acidity\"]\n",
    "T_test = test_set[\"pH\"]\n"
   ]
  },
  {
   "cell_type": "code",
   "execution_count": 6,
   "metadata": {
    "ExecuteTime": {
     "end_time": "2020-01-12T12:46:30.629720Z",
     "start_time": "2020-01-12T12:46:30.627227Z"
    }
   },
   "outputs": [],
   "source": [
    "from sklearn.base import BaseEstimator, RegressorMixin\n",
    "from sklearn.utils.validation import check_X_y, check_is_fitted, check_array"
   ]
  },
  {
   "cell_type": "code",
   "execution_count": 7,
   "metadata": {
    "ExecuteTime": {
     "end_time": "2020-01-12T12:46:30.644941Z",
     "start_time": "2020-01-12T12:46:30.632069Z"
    }
   },
   "outputs": [],
   "source": [
    "class polyreg_ridge(BaseEstimator, RegressorMixin):\n",
    "    def __init__(self, degree, lam):\n",
    "        self.degree = degree\n",
    "        self.lam = lam\n",
    "        self.w_ = None\n",
    "        \n",
    "    def fit(self, x, y):\n",
    "        if type(x) is pd.Series:\n",
    "            x = x.values.reshape(-1,1)\n",
    "        else: \n",
    "            x = x.reshape(-1,1)\n",
    "            \n",
    "        x, y = check_X_y(x, y, y_numeric=True)\n",
    "        if self.lam != 0:\n",
    "            pass\n",
    "        else:\n",
    "            pass\n",
    "        \n",
    "        x_pow = []\n",
    "        xx = x.reshape(len(x),1)\n",
    "        for i in range(1, self.degree + 1):\n",
    "            x_pow.append(xx**i)\n",
    "            \n",
    "        mat = np.concatenate(x_pow, axis=1)\n",
    "        \n",
    "        XXX = np.c_[np.ones(mat.shape[0]),mat]\n",
    "        I = np.eye(XXX.shape[1])\n",
    "        A = XXX.T@XXX + self.lam * I\n",
    "        b = XXX.T@y\n",
    "        self.w_ = np.dot(np.linalg.inv(A),b)\n",
    "        \n",
    "        return self\n",
    "    \n",
    "    def predict(self, x):\n",
    "        if type(x) is pd.Series:\n",
    "            x = x.values.reshape(-1,1)\n",
    "        else: \n",
    "            x = x.reshape(-1,1)\n",
    "        \n",
    "        x_pow = []\n",
    "        xx = x.reshape(len(x),1)\n",
    "        for i in range(1, self.degree + 1):\n",
    "            x_pow.append(xx**i)\n",
    "            \n",
    "        mat = np.concatenate(x_pow, axis=1)\n",
    "        \n",
    "        XX = np.c_[np.ones(mat.shape[0]),mat]\n",
    "        y = np.dot(XX,self.w_)\n",
    "        \n",
    "        check_is_fitted(self, \"w_\") \n",
    "        XX = check_array(XX)\n",
    "        return y\n",
    "        "
   ]
  },
  {
   "cell_type": "code",
   "execution_count": 8,
   "metadata": {
    "ExecuteTime": {
     "end_time": "2020-01-12T12:46:30.661630Z",
     "start_time": "2020-01-12T12:46:30.647160Z"
    }
   },
   "outputs": [
    {
     "name": "stdout",
     "output_type": "stream",
     "text": [
      "係数:  [-2.15088198e-01 -5.23083881e-01  5.33656193e-01 -3.14099270e-01\n",
      " -2.79125105e-01  1.50111078e-01  6.87612332e-02 -3.83570371e-02\n",
      " -2.11624504e-03  2.91189414e-03 -3.32287714e-04]\n"
     ]
    }
   ],
   "source": [
    "poly = polyreg_ridge(10,1.)\n",
    "poly.fit(X_train, T_train)\n",
    "print(\"係数: \",poly.w_)"
   ]
  },
  {
   "cell_type": "code",
   "execution_count": 9,
   "metadata": {
    "ExecuteTime": {
     "end_time": "2020-01-12T12:46:30.800593Z",
     "start_time": "2020-01-12T12:46:30.663602Z"
    }
   },
   "outputs": [
    {
     "data": {
      "text/plain": [
       "[<matplotlib.lines.Line2D at 0x1a16c6ab90>]"
      ]
     },
     "execution_count": 9,
     "metadata": {},
     "output_type": "execute_result"
    },
    {
     "data": {
      "image/png": "[encoded data removed]",
      "text/plain": [
       "<Figure size 432x288 with 1 Axes>"
      ]
     },
     "metadata": {
      "needs_background": "light"
     },
     "output_type": "display_data"
    }
   ],
   "source": [
    "plt.scatter(X_train, T_train, color=\"k\")\n",
    "xx = np.linspace(X_train.min(), X_train.max(), 300)\n",
    "plt.plot(xx, poly.predict(xx), color=\"r\")"
   ]
  },
  {
   "cell_type": "code",
   "execution_count": 12,
   "metadata": {
    "ExecuteTime": {
     "end_time": "2020-01-12T12:48:43.659222Z",
     "start_time": "2020-01-12T12:48:43.177587Z"
    }
   },
   "outputs": [
    {
     "name": "stdout",
     "output_type": "stream",
     "text": [
      "決定係数:  0.5168256612666384\n",
      "lam:  20.085536923187668\n"
     ]
    }
   ],
   "source": [
    "from sklearn.model_selection import GridSearchCV\n",
    "\n",
    "np.random.seed(0)\n",
    "\n",
    "# Grid search\n",
    "parameters = {'lam':np.exp([i for i in range(-30,30)])}\n",
    "reg = GridSearchCV(polyreg_ridge(10, 1.0),parameters,cv=5)\n",
    "reg.fit(X_train,T_train)\n",
    "best = reg.best_estimator_\n",
    "\n",
    "# 決定係数\n",
    "print(\"決定係数: \", best.score(X_train, T_train)) \n",
    "# lambda\n",
    "print(\"lam: \", best.lam)"
   ]
  },
  {
   "cell_type": "code",
   "execution_count": 13,
   "metadata": {
    "ExecuteTime": {
     "end_time": "2020-01-12T12:48:45.913995Z",
     "start_time": "2020-01-12T12:48:45.902668Z"
    }
   },
   "outputs": [],
   "source": [
    "class linear(BaseEstimator, RegressorMixin):\n",
    "    def __init__(self, degree):\n",
    "        self.degree = degree\n",
    "        self.w_ = None\n",
    "        \n",
    "    def fit(self, x, y):\n",
    "        if type(x) is pd.Series:\n",
    "            x = x.values.reshape(-1,1)\n",
    "        else: \n",
    "            x = x.reshape(-1,1)\n",
    "            \n",
    "        x, y = check_X_y(x, y, y_numeric=True)\n",
    "        \n",
    "        x_pow = []\n",
    "        xx = x.reshape(len(x),1)\n",
    "        for i in range(1, self.degree + 1):\n",
    "            x_pow.append(xx**i)\n",
    "            \n",
    "        mat = np.concatenate(x_pow, axis=1)\n",
    "        \n",
    "        XXX = np.c_[np.ones(mat.shape[0]),mat]\n",
    "        I = np.eye(XXX.shape[1])\n",
    "        A = XXX.T@XXX\n",
    "        b = XXX.T@y\n",
    "        self.w_ = np.dot(np.linalg.inv(A),b)\n",
    "        \n",
    "        return self\n",
    "    \n",
    "    def predict(self, x):\n",
    "        if type(x) is pd.Series:\n",
    "            x = x.values.reshape(-1,1)\n",
    "        else: \n",
    "            x = x.reshape(-1,1)\n",
    "        \n",
    "        x_pow = []\n",
    "        xx = x.reshape(len(x),1)\n",
    "        for i in range(1, self.degree + 1):\n",
    "            x_pow.append(xx**i)\n",
    "            \n",
    "        mat = np.concatenate(x_pow, axis=1)\n",
    "        \n",
    "        XX = np.c_[np.ones(mat.shape[0]),mat]\n",
    "        y = np.dot(XX,self.w_)\n",
    "        \n",
    "        check_is_fitted(self, \"w_\") \n",
    "        XX = check_array(XX)\n",
    "        return y\n",
    "        "
   ]
  },
  {
   "cell_type": "code",
   "execution_count": 28,
   "metadata": {
    "ExecuteTime": {
     "end_time": "2020-01-12T12:56:09.642109Z",
     "start_time": "2020-01-12T12:56:09.625642Z"
    }
   },
   "outputs": [],
   "source": [
    "def soft_thresholding(x, y):\n",
    "        return np.sign(x) * max(abs(x) - y, 0)\n",
    "    \n",
    "\n",
    "class Lasso(BaseEstimator, RegressorMixin):\n",
    "    def __init__(self, degree, lam, tol=0.001, max_iter=1000):\n",
    "        self.lambda_ = lam\n",
    "        self.degree = degree\n",
    "        self.tol = tol\n",
    "        self.max_iter = max_iter\n",
    "        self.w_ = None\n",
    "        \n",
    "    def _update(self, row, col, X, t):\n",
    "        self.w_[0] = (t - np.dot(X, self.w_[1:])).sum() / row\n",
    "        w0vec = np.ones(row) * self.w_[0]\n",
    "        for k in range(col):\n",
    "            ww = self.w_[1:]\n",
    "            ww[k] = 0\n",
    "            q = np.dot(t - w0vec - np.dot(X, ww), X[:,k])\n",
    "            r = np.dot(X[:,k], X[:,k])\n",
    "            self.w_[k+1] = soft_thresholding(q / r, self.lambda_)\n",
    "        \n",
    "    def fit(self, X, y):\n",
    "        if type(X) is pd.Series:\n",
    "            X = X.values.reshape(-1,1)\n",
    "        else: \n",
    "            X = X.reshape(-1,1)\n",
    "            \n",
    "        X, y = check_X_y(X, y, y_numeric=True)\n",
    "        if self.lambda_ != 0:\n",
    "            pass\n",
    "        else:\n",
    "            pass\n",
    "        \n",
    "        x_pow = []\n",
    "        xx = X.reshape(len(X),1)\n",
    "        for i in range(1, self.degree + 1):\n",
    "            x_pow.append(xx**i)\n",
    "            \n",
    "        mat = np.concatenate(x_pow, axis=1)\n",
    "        \n",
    "        row, col = mat.shape\n",
    "        self.w_ = np.zeros(col + 1)\n",
    "        avgl1 = 0.\n",
    "        \n",
    "        for _ in range(self.max_iter):\n",
    "            avgl1_prev = avgl1\n",
    "            self._update(row, col, mat, y)\n",
    "            avgl1 = np.abs(self.w_).sum() / self.w_.shape[0]\n",
    "            if abs(avgl1 - avgl1_prev) <= self.tol:\n",
    "                break\n",
    "    \n",
    "    def predict(self, X):\n",
    "        if type(X) is pd.Series:\n",
    "            X = X.values.reshape(-1,1)\n",
    "        else: \n",
    "            X = X.reshape(-1,1)\n",
    "        \n",
    "        x_pow = []\n",
    "        xx = X.reshape(len(X),1)\n",
    "        for i in range(1, self.degree + 1):\n",
    "            x_pow.append(xx**i)\n",
    "            \n",
    "        mat = np.concatenate(x_pow, axis=1)\n",
    "        \n",
    "        XX = np.c_[np.ones(mat.shape[0]),mat]\n",
    "        y = np.dot(XX,self.w_)\n",
    "        \n",
    "        check_is_fitted(self, \"w_\") \n",
    "        XX = check_array(XX)\n",
    "        return y"
   ]
  },
  {
   "cell_type": "code",
   "execution_count": 29,
   "metadata": {
    "ExecuteTime": {
     "end_time": "2020-01-12T12:56:09.824610Z",
     "start_time": "2020-01-12T12:56:09.820241Z"
    }
   },
   "outputs": [],
   "source": [
    "np.random.seed(42)\n",
    "sample = 20\n",
    "dim = 20\n",
    "eps = np.random.randn(sample) / 2.5\n",
    "x2 = np.linspace(-5,5,sample)\n",
    "y2 = np.sin(x2 + eps) #### eps"
   ]
  },
  {
   "cell_type": "code",
   "execution_count": 31,
   "metadata": {
    "ExecuteTime": {
     "end_time": "2020-01-12T12:57:18.328251Z",
     "start_time": "2020-01-12T12:57:18.314536Z"
    }
   },
   "outputs": [
    {
     "name": "stdout",
     "output_type": "stream",
     "text": [
      "係数:  [-7.37879828e+00 -8.77168036e+00  1.68563306e+00  2.19151611e+01\n",
      " -2.67130375e+00 -2.43810062e+01  2.91705418e+00  1.21635370e+01\n",
      " -1.44910192e+00 -3.18662047e+00  3.79148036e-01  4.74776924e-01\n",
      " -5.64799905e-02 -4.14058864e-02  4.92680725e-03  2.08042422e-03\n",
      " -2.47628341e-04 -5.54916187e-05  6.60724072e-06  6.05874618e-07\n",
      " -7.21612068e-08]\n",
      "ridge 係数:  [ 5.71176857e-04  2.67800944e-02 -6.29726895e-04  3.26760013e-02\n",
      " -2.23696479e-05  3.91767699e-02 -1.13234649e-03  2.81516737e-02\n",
      " -2.07468265e-03 -1.83214678e-02  1.66799161e-03  3.74414292e-03\n",
      " -4.08099715e-04 -3.76409933e-04  4.68481421e-05  2.02520880e-05\n",
      " -2.78489070e-06 -5.58259336e-07  8.28728546e-08  6.18638034e-09\n",
      " -9.74753307e-10]\n",
      "<class 'float'>\n",
      "lasso 係数:  [ 1.28468802e-02  3.87054624e-02 -1.79794508e-04 -8.04107829e-03\n",
      " -0.00000000e+00 -6.85082469e-05  0.00000000e+00 -0.00000000e+00\n",
      "  0.00000000e+00 -0.00000000e+00  0.00000000e+00 -0.00000000e+00\n",
      "  0.00000000e+00 -0.00000000e+00  0.00000000e+00 -0.00000000e+00\n",
      "  0.00000000e+00  0.00000000e+00  0.00000000e+00  0.00000000e+00\n",
      "  0.00000000e+00]\n"
     ]
    }
   ],
   "source": [
    "linear_reg = linear(dim)\n",
    "linear_reg.fit(x2, y2)\n",
    "print(\"係数: \",linear_reg.w_)\n",
    "\n",
    "poly2_r = polyreg_ridge(dim,100.)\n",
    "poly2_r.fit(x2, y2)\n",
    "print(\"ridge 係数: \",poly2_r.w_)\n",
    "\n",
    "lasso = Lasso(dim,1e-5)\n",
    "lasso.fit(x2,y2)\n",
    "print(\"lasso 係数: \",lasso.w_)"
   ]
  },
  {
   "cell_type": "code",
   "execution_count": 32,
   "metadata": {
    "ExecuteTime": {
     "end_time": "2020-01-12T12:57:19.226350Z",
     "start_time": "2020-01-12T12:57:18.818226Z"
    }
   },
   "outputs": [
    {
     "data": {
      "image/png": "[encoded data removed]",
      "text/plain": [
       "<Figure size 1080x360 with 4 Axes>"
      ]
     },
     "metadata": {
      "needs_background": "light"
     },
     "output_type": "display_data"
    }
   ],
   "source": [
    "plt.rcParams['figure.figsize'] = (15 ,5)\n",
    "fig, axs = plt.subplots(2,2)\n",
    "\n",
    "xx2 = np.linspace(-5, 5, 300)\n",
    "yy2 = np.sin(xx2)\n",
    "\n",
    "ymin_lim = y2.min() - 0.5\n",
    "ymax_lim = y2.max() + 0.5\n",
    "xmin_lim = x2.min() - 0.5\n",
    "xmax_lim = x2.max() + 0.5\n",
    "\n",
    "axs[0,0].set_title(\"linear regression\")\n",
    "axs[0,1].set_title(\"ridge\")\n",
    "axs[1,0].set_title(\"lasso\")\n",
    "axs[1,0].set_title(\"lasso\")\n",
    "axs[0,0].plot(xx2, linear_reg.predict(xx2), color=\"r\", label=\"linear\")\n",
    "axs[0,1].plot(xx2, poly2_r.predict(xx2), color=\"r\", label=\"ridge\")\n",
    "axs[1,0].plot(xx2, lasso.predict(xx2), color=\"r\", label=\"lasso\")\n",
    "\n",
    "j = 0\n",
    "for i in range(3):\n",
    "    if i == 2:\n",
    "        i = 0\n",
    "        j = 1\n",
    "    axs[j,i].set_xlim((xmin_lim, xmax_lim))\n",
    "    axs[j,i].set_ylim((ymin_lim, ymax_lim))\n",
    "    axs[j,i].scatter(x2, y2, color=\"k\")\n",
    "    axs[j,i].plot(xx2, yy2, color=\"b\", label=\"sin\")\n",
    "    axs[j,i].legend()\n"
   ]
  },
  {
   "cell_type": "code",
   "execution_count": null,
   "metadata": {},
   "outputs": [],
   "source": []
  }
 ],
 "metadata": {
  "kernelspec": {
   "display_name": "Python 3",
   "language": "python",
   "name": "python3"
  },
  "language_info": {
   "codemirror_mode": {
    "name": "ipython",
    "version": 3
   },
   "file_extension": ".py",
   "mimetype": "text/x-python",
   "name": "python",
   "nbconvert_exporter": "python",
   "pygments_lexer": "ipython3",
   "version": "3.7.4"
  },
  "varInspector": {
   "cols": {
    "lenName": 16,
    "lenType": 16,
    "lenVar": 40
   },
   "kernels_config": {
    "python": {
     "delete_cmd_postfix": "",
     "delete_cmd_prefix": "del ",
     "library": "var_list.py",
     "varRefreshCmd": "print(var_dic_list())"
    },
    "r": {
     "delete_cmd_postfix": ") ",
     "delete_cmd_prefix": "rm(",
     "library": "var_list.r",
     "varRefreshCmd": "cat(var_dic_list()) "
    }
   },
   "types_to_exclude": [
    "module",
    "function",
    "builtin_function_or_method",
    "instance",
    "_Feature"
   ],
   "window_display": false
  }
 },
 "nbformat": 4,
 "nbformat_minor": 2
}

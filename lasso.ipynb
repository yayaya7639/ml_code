{
 "cells": [
  {
   "cell_type": "code",
   "execution_count": 45,
   "metadata": {
    "ExecuteTime": {
     "end_time": "2019-12-08T06:59:06.628299Z",
     "start_time": "2019-12-08T06:59:06.623894Z"
    }
   },
   "outputs": [],
   "source": [
    "import numpy as np\n",
    "import matplotlib.pyplot as plt\n",
    "%matplotlib inline"
   ]
  },
  {
   "cell_type": "code",
   "execution_count": 46,
   "metadata": {
    "ExecuteTime": {
     "end_time": "2019-12-08T06:59:06.637132Z",
     "start_time": "2019-12-08T06:59:06.630589Z"
    }
   },
   "outputs": [],
   "source": [
    "import csv\n",
    "\n",
    "Xy = []\n",
    "with open(\"winequality-red.csv\") as fp:\n",
    "    for row in csv.reader(fp, delimiter=\";\"):\n",
    "        Xy.append(row)"
   ]
  },
  {
   "cell_type": "code",
   "execution_count": 47,
   "metadata": {
    "ExecuteTime": {
     "end_time": "2019-12-08T06:59:06.645785Z",
     "start_time": "2019-12-08T06:59:06.640020Z"
    }
   },
   "outputs": [],
   "source": [
    "Xy = np.array(Xy[1:], dtype=np.float64)"
   ]
  },
  {
   "cell_type": "code",
   "execution_count": 48,
   "metadata": {
    "ExecuteTime": {
     "end_time": "2019-12-08T06:59:06.654258Z",
     "start_time": "2019-12-08T06:59:06.647902Z"
    }
   },
   "outputs": [],
   "source": [
    "train_X = Xy[:-1000, :-1]\n",
    "train_y = Xy[:-1000,-1]\n",
    "test_X = Xy[-1000:,:-1]\n",
    "test_y = Xy[-1000:,-1]"
   ]
  },
  {
   "cell_type": "code",
   "execution_count": 49,
   "metadata": {
    "ExecuteTime": {
     "end_time": "2019-12-08T06:59:06.668631Z",
     "start_time": "2019-12-08T06:59:06.656707Z"
    }
   },
   "outputs": [],
   "source": [
    "class Lasso:\n",
    "    def __init__(self, lamda_, tol=0.001, max_iter=1000):\n",
    "        self.lamda_ = lamda_\n",
    "        self.tol = tol\n",
    "        self.max_iter = max_iter\n",
    "        self.w_ = None\n",
    "        \n",
    "    def soft_thresholding(x, y):\n",
    "        return np.sign(x) * max(abs(x) - y, 0)\n",
    "                \n",
    "    def _update(self, row, col, X, t):\n",
    "        self.w_[0] = (t - np.dot(X, self.w_[1:])).sum() / row\n",
    "        w0vec = np.ones(row) * self.w_[0]\n",
    "        for k in range(col):\n",
    "            ww = self.w_[1:]\n",
    "            ww[k] = 0\n",
    "            q = np.dot(t - w0vec - np.dot(X, ww), X[:,k])\n",
    "            r = np.dot(X[:,k], X[:,k])\n",
    "            self.w_[k+1] = soft_thresholding(q / r, self.lamda_)\n",
    "    \n",
    "    def fit(self, X, t):\n",
    "        row, col = X.shape\n",
    "        self.w_ = np.zeros(col + 1)\n",
    "        avgl1 = 0.\n",
    "        for _ in range(self.max_iter):\n",
    "            avgl1_prev = avgl1\n",
    "            self._update(row, col, X, t)\n",
    "            avgl1 = np.abs(self.w_).sum() / self.w_.shape[0]\n",
    "            if abs(avgl1 - avgl1_prev) <= self.tol:\n",
    "                break\n",
    "    \n",
    "    def predict(self, X):\n",
    "        if X.ndim == 1:\n",
    "            X = X.reshape(X.shape[0], 1)\n",
    "        \n",
    "        Xtil = np.c_[np.ones(X.shape[0]), X]\n",
    "        return np.dot(Xtil, self.w_)"
   ]
  },
  {
   "cell_type": "code",
   "execution_count": 51,
   "metadata": {
    "ExecuteTime": {
     "end_time": "2019-12-08T09:38:45.048350Z",
     "start_time": "2019-12-08T09:38:45.018932Z"
    }
   },
   "outputs": [
    {
     "name": "stdout",
     "output_type": "stream",
     "text": [
      "--- lambda = 1.0 ---\n",
      "coefficients:\n",
      "[ 5.60934891  0.         -0.          0.          0.         -0.\n",
      " -0.         -0.          0.         -0.          0.          0.        ]\n",
      "MSE: 0.667\n",
      "--- lambda = 0.1 ---\n",
      "coefficients:\n",
      "[ 5.63436792  0.         -0.10331221  0.55205203  0.         -1.57557842\n",
      " -0.         -0.         -0.         -0.          0.          0.        ]\n",
      "MSE: 0.617\n",
      "--- lambda = 0.01 ---\n",
      "coefficients:\n",
      "[ 5.50360587  0.         -0.85879623  0.38621155  0.         -3.05948342\n",
      " -0.         -0.          0.10897095  0.          0.86365158  0.        ]\n",
      "MSE: 0.528\n"
     ]
    }
   ],
   "source": [
    "for lambda_ in [1.,0.1, 0.01]:\n",
    "    model = Lasso(lambda_)\n",
    "    model.fit(train_X, train_y)\n",
    "    y = model.predict(test_X)\n",
    "    print(f\"--- lambda = {lambda_} ---\")\n",
    "    print(\"coefficients:\")\n",
    "    print(model.w_)\n",
    "    mse = ((y - test_y)**2).mean()\n",
    "    print(\"MSE: {:.3f}\".format(mse))"
   ]
  },
  {
   "cell_type": "code",
   "execution_count": null,
   "metadata": {},
   "outputs": [],
   "source": []
  }
 ],
 "metadata": {
  "kernelspec": {
   "display_name": "Python 3",
   "language": "python",
   "name": "python3"
  },
  "language_info": {
   "codemirror_mode": {
    "name": "ipython",
    "version": 3
   },
   "file_extension": ".py",
   "mimetype": "text/x-python",
   "name": "python",
   "nbconvert_exporter": "python",
   "pygments_lexer": "ipython3",
   "version": "3.7.4"
  },
  "varInspector": {
   "cols": {
    "lenName": 16,
    "lenType": 16,
    "lenVar": 40
   },
   "kernels_config": {
    "python": {
     "delete_cmd_postfix": "",
     "delete_cmd_prefix": "del ",
     "library": "var_list.py",
     "varRefreshCmd": "print(var_dic_list())"
    },
    "r": {
     "delete_cmd_postfix": ") ",
     "delete_cmd_prefix": "rm(",
     "library": "var_list.r",
     "varRefreshCmd": "cat(var_dic_list()) "
    }
   },
   "types_to_exclude": [
    "module",
    "function",
    "builtin_function_or_method",
    "instance",
    "_Feature"
   ],
   "window_display": false
  }
 },
 "nbformat": 4,
 "nbformat_minor": 2
}
